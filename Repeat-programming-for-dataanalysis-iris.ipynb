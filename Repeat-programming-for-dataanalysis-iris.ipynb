{
 "cells": [
  {
   "cell_type": "markdown",
   "metadata": {},
   "source": [
    "# Repeat Programming for Data Analytics \n",
    "## Mary McHale -  G00253431"
   ]
  },
  {
   "cell_type": "markdown",
   "metadata": {},
   "source": [
    "### Background of pandas:\n",
    "This project requires writing a pandas tutorial in jupyter notebook. \n",
    "It will cover the following:\n",
    "* How to install pandas in Python.\n",
    "* Functionality of pandas (Implemented using Iris Dataset).\n",
    "* How to use pandas.\n",
    "\n",
    "\n",
    "* Pandas is like Excel in Python [1]. \n",
    "* It is an open source tool for data analysis which conceals all complex calculations.\n",
    "* It is a Python package which provides quick adaptable and expressive data structures specifically planned to enable working with “relational” or “labeled” data without much effort and easy to understand. Relational data describes data aranged into tables. Labeled data describes the end result after providing headings to data so that it is organised.\n",
    "\n",
    "Panda intends to be the under-lying foundation for doing concrete, business-like and practical data analysis in Python. "
   ]
  },
  {
   "cell_type": "markdown",
   "metadata": {},
   "source": [
    "## How to install pandas in Python.\n",
    "\n",
    "Anaconda is used to complete the installation. After installing Anaconda, you may open the conda prompt and run the following command. [2]\n",
    "\n",
    "```conda install -c anaconda pandas```\n",
    "\n",
    "Part way through the installation, there is a screen prompt -\n",
    "```Proceed (y\\n)?```\n",
    "\n",
    "Type ```y``` for the installation to complete.[1]\n",
    "\n",
    "To ensure that the latest version of pandas is being used, the following code needs to be typed into the command line.\n",
    "```pip install pandas``` (if pandas is not downloaded)\n",
    "\n",
    "```python -m pip install --upgrade pandas``` (to upgrade a downloaded version)\n",
    "\n",
    "Then within jupyter notebook, import the pandas package as ```import pandas as pd``` (pd is an alias) and to check the current version: \n",
    "`` pd.__version__``\n"
   ]
  },
  {
   "cell_type": "markdown",
   "metadata": {},
   "source": [
    "## Functionalities of Pandas\n",
    "\n",
    "Pandas is compatible with lots of different types of data. There are two primary data structures of pandas and these accommodate most of the requirements in finance, statistics, social science, and lots of sections of engineering. \n",
    " - Series (1-dimensional)\n",
    " - DataFrame (2-dimensional).\n",
    "\n",
    "The primary source for scientific computing in Python is NumPy (Numerical Python)[3]. As pandas is constructed on top of NumPy, it therefore works well within a scientific computing environment with many other 3rd party libraries. Pandas performs best with small data (in the range 100MB up to 1GB)[4].\n",
    "\n",
    "*Tabular data with heterogeneously-typed columns as in an SQL table or Excel Ordered and unordered (not necessarily fixed-frequency) time series data.\n",
    "\n",
    " \n",
    "### Primary Funtions: [5] [6]\n",
    " \n",
    "* Reading data. \n",
    "Commands or code is: read_csv, read_excel\n",
    " \n",
    " Example of code: ```data = pd.read_csv('my_file.csv')```\n",
    " \n",
    "In addition, it can copy data from Excel or the web. Comands or code:  read_clipboard, read_sql\n",
    "\n",
    "* Writing data. \n",
    "Strong import and export tools to load data from flat files (CSV and delimited), databases, files from Excel. \n",
    "   Commands or code is: \n",
    "    \n",
    "    ```.to_excel, .to_json, .to_pickle since .to_csv ```\n",
    "    \n",
    "   Example of code: \n",
    "    \n",
    "    ```data.to_csv('my_new_file.csv', index=None)```\n",
    " \n",
    "In aditions, it allows pasting of results from Python to Excel Comands or code: .to_clipboard\n",
    "\n",
    "* Checking data shape and description\n",
    "Commands or code is: \n",
    "\n",
    "```data.shape``` : This will show the number of rows and columns\n",
    "\n",
    "```data.describe()``` : This will show mean,std,min,max,count and the quartile ranges\n",
    "\n",
    "* Seeing the data.\n",
    "Commands or code is: \n",
    "\n",
    "```data.head(10)``` : This lists the first 10 (default) rows of data. any number cab be specified here.\n",
    "\n",
    "The similar command is: \n",
    "\n",
    "```data.last(10)``` : lists the last 10 rows of data.\n",
    "\n",
    "These are useful data checks to ensure that the working file is as expected and that no data is missing.\n",
    "\n",
    "\n",
    "* To print a specific row of the data the command is: \n",
    "\n",
    "```data.loc(3)``` which would print the third row or another function called iloc can be used like:\n",
    "\n",
    "```data.iloc[0:3,0:3]``` : will print first 3 rows and 3 column. \n",
    "\n",
    "Some other possibilities with this are:\n",
    "\n",
    "```data.iloc[0:5,2:3]``` : print rows 0-5 and columns 2-3.\n",
    "\n",
    "```data.iloc[4:,6:]``` : Print all rows starting from row 4 and print all column starting from column 6.\n",
    " \n",
    "* Use of Logical operations\n",
    "The data can be sub divided into different parts based on using logical operations.Therefore use of \"&\" (AND) in code, \"~\" (NOT) and \"|\" (OR), by adding “(“ and “)” before and after the logical operation.\n",
    "\n",
    "Example of code: \n",
    "\n",
    "```data[(data['column_1']=='french') & (data['year_born']==1990)]```\n",
    "\n",
    "This command would return details of individuals was both French and born in 1990.\n",
    "\n",
    "* Basic plotting\n",
    "\n",
    "Basic plotting is achieved in pandas using the matplotlib package which is availabel directly in pandas.\n",
    "\n",
    "Command or code is: ```data.plot()```\n",
    "\n",
    "Example of code: \n",
    "\n",
    "    ` data['column_numerical'].plot()\n",
    "    \n",
    "      data['column_numerical'].hist() `\n",
    "   \n",
    " \n",
    "This displays the output as a histogram.\n",
    "\n",
    "* Updating the data\n",
    "\n",
    "Pandas allow for columns to be deleted and inserted from DataFrame. \n",
    "Example of code: \n",
    "\n",
    "`data.loc[10, 'column_1'] = 'irish'`\n",
    "\n",
    "This will replace the content of the tenth (10th) row in the column_1 with the word 'irish'.\n",
    "\n",
    "* Converting a row or a column from the dataframe into a list:\n",
    "Command: `data['row1].tolist()`\n",
    "\n",
    "* Printing min, max etc of a row: ```data.row1.min() ``` or ```data.row1.max``` \n",
    "\n",
    "* Aggregating, Generalising, Summarising -  \n",
    "\n",
    "```data.groupby()```\n",
    "\n",
    "* Handling missing Values\n",
    "`df.isna()`\n",
    "\n",
    "  In summary, the transition of data into information usually follows the sequence of data cleansing, modeling \\ analysing it, then formating the results so that they can be plotted or shown in table format. pandas accomodates all these requirements. \n",
    "\n",
    "\n",
    "#### Note: Please refer link [5] for adetailed insight on pandas functionality.\n"
   ]
  },
  {
   "cell_type": "markdown",
   "metadata": {},
   "source": [
    "## Analysis of Iris Dataset - Background\n",
    "Iris dataset was introduced by Ronald Fischer, a british statistician and biologist in 1936. Fischer developed a linear model to distingush the species from each other. \n",
    "\n",
    "The dataset contains sets of data for 3 varieties of the Iris flower - \n",
    "* Sentosa\n",
    "* Versicolor \n",
    "* Virginica. \n",
    "\n",
    "50 data readings were collected for these 3 varieties under the following 4 attributes - \n",
    "* sepal width and sepal length.\n",
    "* petal width and sepal length.\n",
    "\n",
    "\n",
    "## Note:\n",
    "Different pandas functionalities have been used within this section where we analyse iris datset."
   ]
  },
  {
   "cell_type": "markdown",
   "metadata": {},
   "source": [
    "## Checking pandas version\n",
    "The cell below shows the version of pandas that we are using -"
   ]
  },
  {
   "cell_type": "code",
   "execution_count": 1,
   "metadata": {},
   "outputs": [
    {
     "data": {
      "text/plain": [
       "'0.25.1'"
      ]
     },
     "execution_count": 1,
     "metadata": {},
     "output_type": "execute_result"
    }
   ],
   "source": [
    "import pandas as pd\n",
    "pd.__version__"
   ]
  },
  {
   "cell_type": "markdown",
   "metadata": {},
   "source": [
    "## Reading the dataset"
   ]
  },
  {
   "cell_type": "code",
   "execution_count": 3,
   "metadata": {},
   "outputs": [
    {
     "data": {
      "text/html": [
       "<div>\n",
       "<style scoped>\n",
       "    .dataframe tbody tr th:only-of-type {\n",
       "        vertical-align: middle;\n",
       "    }\n",
       "\n",
       "    .dataframe tbody tr th {\n",
       "        vertical-align: top;\n",
       "    }\n",
       "\n",
       "    .dataframe thead th {\n",
       "        text-align: right;\n",
       "    }\n",
       "</style>\n",
       "<table border=\"1\" class=\"dataframe\">\n",
       "  <thead>\n",
       "    <tr style=\"text-align: right;\">\n",
       "      <th></th>\n",
       "      <th>sepal_length</th>\n",
       "      <th>sepal_width</th>\n",
       "      <th>petal_length</th>\n",
       "      <th>petal_width</th>\n",
       "      <th>species</th>\n",
       "    </tr>\n",
       "  </thead>\n",
       "  <tbody>\n",
       "    <tr>\n",
       "      <td>0</td>\n",
       "      <td>5.1</td>\n",
       "      <td>3.5</td>\n",
       "      <td>1.4</td>\n",
       "      <td>0.2</td>\n",
       "      <td>setosa</td>\n",
       "    </tr>\n",
       "    <tr>\n",
       "      <td>1</td>\n",
       "      <td>4.9</td>\n",
       "      <td>3.0</td>\n",
       "      <td>1.4</td>\n",
       "      <td>0.2</td>\n",
       "      <td>setosa</td>\n",
       "    </tr>\n",
       "    <tr>\n",
       "      <td>2</td>\n",
       "      <td>4.7</td>\n",
       "      <td>3.2</td>\n",
       "      <td>1.3</td>\n",
       "      <td>0.2</td>\n",
       "      <td>setosa</td>\n",
       "    </tr>\n",
       "    <tr>\n",
       "      <td>3</td>\n",
       "      <td>4.6</td>\n",
       "      <td>3.1</td>\n",
       "      <td>1.5</td>\n",
       "      <td>0.2</td>\n",
       "      <td>setosa</td>\n",
       "    </tr>\n",
       "    <tr>\n",
       "      <td>4</td>\n",
       "      <td>5.0</td>\n",
       "      <td>3.6</td>\n",
       "      <td>1.4</td>\n",
       "      <td>0.2</td>\n",
       "      <td>setosa</td>\n",
       "    </tr>\n",
       "    <tr>\n",
       "      <td>...</td>\n",
       "      <td>...</td>\n",
       "      <td>...</td>\n",
       "      <td>...</td>\n",
       "      <td>...</td>\n",
       "      <td>...</td>\n",
       "    </tr>\n",
       "    <tr>\n",
       "      <td>145</td>\n",
       "      <td>6.7</td>\n",
       "      <td>3.0</td>\n",
       "      <td>5.2</td>\n",
       "      <td>2.3</td>\n",
       "      <td>virginica</td>\n",
       "    </tr>\n",
       "    <tr>\n",
       "      <td>146</td>\n",
       "      <td>6.3</td>\n",
       "      <td>2.5</td>\n",
       "      <td>5.0</td>\n",
       "      <td>1.9</td>\n",
       "      <td>virginica</td>\n",
       "    </tr>\n",
       "    <tr>\n",
       "      <td>147</td>\n",
       "      <td>6.5</td>\n",
       "      <td>3.0</td>\n",
       "      <td>5.2</td>\n",
       "      <td>2.0</td>\n",
       "      <td>virginica</td>\n",
       "    </tr>\n",
       "    <tr>\n",
       "      <td>148</td>\n",
       "      <td>6.2</td>\n",
       "      <td>3.4</td>\n",
       "      <td>5.4</td>\n",
       "      <td>2.3</td>\n",
       "      <td>virginica</td>\n",
       "    </tr>\n",
       "    <tr>\n",
       "      <td>149</td>\n",
       "      <td>5.9</td>\n",
       "      <td>3.0</td>\n",
       "      <td>5.1</td>\n",
       "      <td>1.8</td>\n",
       "      <td>virginica</td>\n",
       "    </tr>\n",
       "  </tbody>\n",
       "</table>\n",
       "<p>150 rows × 5 columns</p>\n",
       "</div>"
      ],
      "text/plain": [
       "     sepal_length  sepal_width  petal_length  petal_width    species\n",
       "0             5.1          3.5           1.4          0.2     setosa\n",
       "1             4.9          3.0           1.4          0.2     setosa\n",
       "2             4.7          3.2           1.3          0.2     setosa\n",
       "3             4.6          3.1           1.5          0.2     setosa\n",
       "4             5.0          3.6           1.4          0.2     setosa\n",
       "..            ...          ...           ...          ...        ...\n",
       "145           6.7          3.0           5.2          2.3  virginica\n",
       "146           6.3          2.5           5.0          1.9  virginica\n",
       "147           6.5          3.0           5.2          2.0  virginica\n",
       "148           6.2          3.4           5.4          2.3  virginica\n",
       "149           5.9          3.0           5.1          1.8  virginica\n",
       "\n",
       "[150 rows x 5 columns]"
      ]
     },
     "execution_count": 3,
     "metadata": {},
     "output_type": "execute_result"
    }
   ],
   "source": [
    "data=pd.read_csv(\"data/iris.csv\")\n",
    "data"
   ]
  },
  {
   "cell_type": "code",
   "execution_count": 4,
   "metadata": {},
   "outputs": [
    {
     "name": "stdout",
     "output_type": "stream",
     "text": [
      "Total Number of (Rows,Columns) : (150, 5)\n"
     ]
    }
   ],
   "source": [
    "print(\"Total Number of (Rows,Columns) :\",data.shape)"
   ]
  },
  {
   "cell_type": "markdown",
   "metadata": {},
   "source": [
    "## Describing the data\n",
    "The Cell below shows the Count, Mean, Min, Max, Standard Deviation and Median of the data being used. It also shows the Specie with minimum and maximum values. "
   ]
  },
  {
   "cell_type": "code",
   "execution_count": 5,
   "metadata": {},
   "outputs": [
    {
     "name": "stdout",
     "output_type": "stream",
     "text": [
      "Count \n",
      " sepal_length    150\n",
      "sepal_width     150\n",
      "petal_length    150\n",
      "petal_width     150\n",
      "species         150\n",
      "dtype: int64 \n",
      "\n",
      "Mean \n",
      " sepal_length    5.843333\n",
      "sepal_width     3.054000\n",
      "petal_length    3.758667\n",
      "petal_width     1.198667\n",
      "dtype: float64 \n",
      "\n",
      "Min \n",
      " sepal_length       4.3\n",
      "sepal_width          2\n",
      "petal_length         1\n",
      "petal_width        0.1\n",
      "species         setosa\n",
      "dtype: object \n",
      "\n",
      "Max \n",
      " sepal_length          7.9\n",
      "sepal_width           4.4\n",
      "petal_length          6.9\n",
      "petal_width           2.5\n",
      "species         virginica\n",
      "dtype: object \n",
      "\n",
      "Median \n",
      " sepal_length    5.80\n",
      "sepal_width     3.00\n",
      "petal_length    4.35\n",
      "petal_width     1.30\n",
      "dtype: float64 \n",
      "\n",
      "Std Dev. \n",
      " sepal_length    0.828066\n",
      "sepal_width     0.433594\n",
      "petal_length    1.764420\n",
      "petal_width     0.763161\n",
      "dtype: float64 \n",
      "\n"
     ]
    }
   ],
   "source": [
    "print(\"Count \\n\",data.count(axis=0),\"\\n\")\n",
    "print(\"Mean \\n\",data.mean(axis=0),\"\\n\")\n",
    "print(\"Min \\n\",data.min(axis=0),\"\\n\")\n",
    "print(\"Max \\n\",data.max(axis=0),\"\\n\")\n",
    "print(\"Median \\n\",data.median(axis=0),\"\\n\")\n",
    "print(\"Std Dev. \\n\",data.std(axis=0),\"\\n\")"
   ]
  },
  {
   "cell_type": "markdown",
   "metadata": {},
   "source": [
    "But the cell above does not show the quartile ranges. In order to fetch that detail we can use the describe function mention below. The describe function gives all other details as well along with the quartile ranges. so it is a better thing to use describe()."
   ]
  },
  {
   "cell_type": "code",
   "execution_count": 6,
   "metadata": {},
   "outputs": [
    {
     "data": {
      "text/html": [
       "<div>\n",
       "<style scoped>\n",
       "    .dataframe tbody tr th:only-of-type {\n",
       "        vertical-align: middle;\n",
       "    }\n",
       "\n",
       "    .dataframe tbody tr th {\n",
       "        vertical-align: top;\n",
       "    }\n",
       "\n",
       "    .dataframe thead th {\n",
       "        text-align: right;\n",
       "    }\n",
       "</style>\n",
       "<table border=\"1\" class=\"dataframe\">\n",
       "  <thead>\n",
       "    <tr style=\"text-align: right;\">\n",
       "      <th></th>\n",
       "      <th>sepal_length</th>\n",
       "      <th>sepal_width</th>\n",
       "      <th>petal_length</th>\n",
       "      <th>petal_width</th>\n",
       "    </tr>\n",
       "  </thead>\n",
       "  <tbody>\n",
       "    <tr>\n",
       "      <td>count</td>\n",
       "      <td>150.000000</td>\n",
       "      <td>150.000000</td>\n",
       "      <td>150.000000</td>\n",
       "      <td>150.000000</td>\n",
       "    </tr>\n",
       "    <tr>\n",
       "      <td>mean</td>\n",
       "      <td>5.843333</td>\n",
       "      <td>3.054000</td>\n",
       "      <td>3.758667</td>\n",
       "      <td>1.198667</td>\n",
       "    </tr>\n",
       "    <tr>\n",
       "      <td>std</td>\n",
       "      <td>0.828066</td>\n",
       "      <td>0.433594</td>\n",
       "      <td>1.764420</td>\n",
       "      <td>0.763161</td>\n",
       "    </tr>\n",
       "    <tr>\n",
       "      <td>min</td>\n",
       "      <td>4.300000</td>\n",
       "      <td>2.000000</td>\n",
       "      <td>1.000000</td>\n",
       "      <td>0.100000</td>\n",
       "    </tr>\n",
       "    <tr>\n",
       "      <td>25%</td>\n",
       "      <td>5.100000</td>\n",
       "      <td>2.800000</td>\n",
       "      <td>1.600000</td>\n",
       "      <td>0.300000</td>\n",
       "    </tr>\n",
       "    <tr>\n",
       "      <td>50%</td>\n",
       "      <td>5.800000</td>\n",
       "      <td>3.000000</td>\n",
       "      <td>4.350000</td>\n",
       "      <td>1.300000</td>\n",
       "    </tr>\n",
       "    <tr>\n",
       "      <td>75%</td>\n",
       "      <td>6.400000</td>\n",
       "      <td>3.300000</td>\n",
       "      <td>5.100000</td>\n",
       "      <td>1.800000</td>\n",
       "    </tr>\n",
       "    <tr>\n",
       "      <td>max</td>\n",
       "      <td>7.900000</td>\n",
       "      <td>4.400000</td>\n",
       "      <td>6.900000</td>\n",
       "      <td>2.500000</td>\n",
       "    </tr>\n",
       "  </tbody>\n",
       "</table>\n",
       "</div>"
      ],
      "text/plain": [
       "       sepal_length  sepal_width  petal_length  petal_width\n",
       "count    150.000000   150.000000    150.000000   150.000000\n",
       "mean       5.843333     3.054000      3.758667     1.198667\n",
       "std        0.828066     0.433594      1.764420     0.763161\n",
       "min        4.300000     2.000000      1.000000     0.100000\n",
       "25%        5.100000     2.800000      1.600000     0.300000\n",
       "50%        5.800000     3.000000      4.350000     1.300000\n",
       "75%        6.400000     3.300000      5.100000     1.800000\n",
       "max        7.900000     4.400000      6.900000     2.500000"
      ]
     },
     "execution_count": 6,
     "metadata": {},
     "output_type": "execute_result"
    }
   ],
   "source": [
    "data.describe()"
   ]
  },
  {
   "cell_type": "markdown",
   "metadata": {},
   "source": [
    "## Using the group by function \n",
    "\n",
    "The output shows the count, median per type of species. The combination of groupby() + describe() give a more granular look to the values per species."
   ]
  },
  {
   "cell_type": "code",
   "execution_count": 7,
   "metadata": {},
   "outputs": [
    {
     "data": {
      "text/html": [
       "<div>\n",
       "<style scoped>\n",
       "    .dataframe tbody tr th:only-of-type {\n",
       "        vertical-align: middle;\n",
       "    }\n",
       "\n",
       "    .dataframe tbody tr th {\n",
       "        vertical-align: top;\n",
       "    }\n",
       "\n",
       "    .dataframe thead th {\n",
       "        text-align: right;\n",
       "    }\n",
       "</style>\n",
       "<table border=\"1\" class=\"dataframe\">\n",
       "  <thead>\n",
       "    <tr style=\"text-align: right;\">\n",
       "      <th></th>\n",
       "      <th>sepal_length</th>\n",
       "      <th>sepal_width</th>\n",
       "      <th>petal_length</th>\n",
       "      <th>petal_width</th>\n",
       "    </tr>\n",
       "    <tr>\n",
       "      <th>species</th>\n",
       "      <th></th>\n",
       "      <th></th>\n",
       "      <th></th>\n",
       "      <th></th>\n",
       "    </tr>\n",
       "  </thead>\n",
       "  <tbody>\n",
       "    <tr>\n",
       "      <td>setosa</td>\n",
       "      <td>50</td>\n",
       "      <td>50</td>\n",
       "      <td>50</td>\n",
       "      <td>50</td>\n",
       "    </tr>\n",
       "    <tr>\n",
       "      <td>versicolor</td>\n",
       "      <td>50</td>\n",
       "      <td>50</td>\n",
       "      <td>50</td>\n",
       "      <td>50</td>\n",
       "    </tr>\n",
       "    <tr>\n",
       "      <td>virginica</td>\n",
       "      <td>50</td>\n",
       "      <td>50</td>\n",
       "      <td>50</td>\n",
       "      <td>50</td>\n",
       "    </tr>\n",
       "  </tbody>\n",
       "</table>\n",
       "</div>"
      ],
      "text/plain": [
       "            sepal_length  sepal_width  petal_length  petal_width\n",
       "species                                                         \n",
       "setosa                50           50            50           50\n",
       "versicolor            50           50            50           50\n",
       "virginica             50           50            50           50"
      ]
     },
     "execution_count": 7,
     "metadata": {},
     "output_type": "execute_result"
    }
   ],
   "source": [
    "data.groupby(\"species\").count()"
   ]
  },
  {
   "cell_type": "code",
   "execution_count": 8,
   "metadata": {},
   "outputs": [
    {
     "data": {
      "text/html": [
       "<div>\n",
       "<style scoped>\n",
       "    .dataframe tbody tr th:only-of-type {\n",
       "        vertical-align: middle;\n",
       "    }\n",
       "\n",
       "    .dataframe tbody tr th {\n",
       "        vertical-align: top;\n",
       "    }\n",
       "\n",
       "    .dataframe thead th {\n",
       "        text-align: right;\n",
       "    }\n",
       "</style>\n",
       "<table border=\"1\" class=\"dataframe\">\n",
       "  <thead>\n",
       "    <tr style=\"text-align: right;\">\n",
       "      <th></th>\n",
       "      <th>sepal_length</th>\n",
       "      <th>sepal_width</th>\n",
       "      <th>petal_length</th>\n",
       "      <th>petal_width</th>\n",
       "    </tr>\n",
       "    <tr>\n",
       "      <th>species</th>\n",
       "      <th></th>\n",
       "      <th></th>\n",
       "      <th></th>\n",
       "      <th></th>\n",
       "    </tr>\n",
       "  </thead>\n",
       "  <tbody>\n",
       "    <tr>\n",
       "      <td>setosa</td>\n",
       "      <td>5.0</td>\n",
       "      <td>3.4</td>\n",
       "      <td>1.50</td>\n",
       "      <td>0.2</td>\n",
       "    </tr>\n",
       "    <tr>\n",
       "      <td>versicolor</td>\n",
       "      <td>5.9</td>\n",
       "      <td>2.8</td>\n",
       "      <td>4.35</td>\n",
       "      <td>1.3</td>\n",
       "    </tr>\n",
       "    <tr>\n",
       "      <td>virginica</td>\n",
       "      <td>6.5</td>\n",
       "      <td>3.0</td>\n",
       "      <td>5.55</td>\n",
       "      <td>2.0</td>\n",
       "    </tr>\n",
       "  </tbody>\n",
       "</table>\n",
       "</div>"
      ],
      "text/plain": [
       "            sepal_length  sepal_width  petal_length  petal_width\n",
       "species                                                         \n",
       "setosa               5.0          3.4          1.50          0.2\n",
       "versicolor           5.9          2.8          4.35          1.3\n",
       "virginica            6.5          3.0          5.55          2.0"
      ]
     },
     "execution_count": 8,
     "metadata": {},
     "output_type": "execute_result"
    }
   ],
   "source": [
    "data.groupby(\"species\").median()"
   ]
  },
  {
   "cell_type": "code",
   "execution_count": 9,
   "metadata": {},
   "outputs": [
    {
     "data": {
      "text/html": [
       "<div>\n",
       "<style scoped>\n",
       "    .dataframe tbody tr th:only-of-type {\n",
       "        vertical-align: middle;\n",
       "    }\n",
       "\n",
       "    .dataframe tbody tr th {\n",
       "        vertical-align: top;\n",
       "    }\n",
       "\n",
       "    .dataframe thead tr th {\n",
       "        text-align: left;\n",
       "    }\n",
       "\n",
       "    .dataframe thead tr:last-of-type th {\n",
       "        text-align: right;\n",
       "    }\n",
       "</style>\n",
       "<table border=\"1\" class=\"dataframe\">\n",
       "  <thead>\n",
       "    <tr>\n",
       "      <th></th>\n",
       "      <th colspan=\"8\" halign=\"left\">sepal_length</th>\n",
       "      <th colspan=\"2\" halign=\"left\">sepal_width</th>\n",
       "      <th>...</th>\n",
       "      <th colspan=\"2\" halign=\"left\">petal_length</th>\n",
       "      <th colspan=\"8\" halign=\"left\">petal_width</th>\n",
       "    </tr>\n",
       "    <tr>\n",
       "      <th></th>\n",
       "      <th>count</th>\n",
       "      <th>mean</th>\n",
       "      <th>std</th>\n",
       "      <th>min</th>\n",
       "      <th>25%</th>\n",
       "      <th>50%</th>\n",
       "      <th>75%</th>\n",
       "      <th>max</th>\n",
       "      <th>count</th>\n",
       "      <th>mean</th>\n",
       "      <th>...</th>\n",
       "      <th>75%</th>\n",
       "      <th>max</th>\n",
       "      <th>count</th>\n",
       "      <th>mean</th>\n",
       "      <th>std</th>\n",
       "      <th>min</th>\n",
       "      <th>25%</th>\n",
       "      <th>50%</th>\n",
       "      <th>75%</th>\n",
       "      <th>max</th>\n",
       "    </tr>\n",
       "    <tr>\n",
       "      <th>species</th>\n",
       "      <th></th>\n",
       "      <th></th>\n",
       "      <th></th>\n",
       "      <th></th>\n",
       "      <th></th>\n",
       "      <th></th>\n",
       "      <th></th>\n",
       "      <th></th>\n",
       "      <th></th>\n",
       "      <th></th>\n",
       "      <th></th>\n",
       "      <th></th>\n",
       "      <th></th>\n",
       "      <th></th>\n",
       "      <th></th>\n",
       "      <th></th>\n",
       "      <th></th>\n",
       "      <th></th>\n",
       "      <th></th>\n",
       "      <th></th>\n",
       "      <th></th>\n",
       "    </tr>\n",
       "  </thead>\n",
       "  <tbody>\n",
       "    <tr>\n",
       "      <td>setosa</td>\n",
       "      <td>50.0</td>\n",
       "      <td>5.006</td>\n",
       "      <td>0.352490</td>\n",
       "      <td>4.3</td>\n",
       "      <td>4.800</td>\n",
       "      <td>5.0</td>\n",
       "      <td>5.2</td>\n",
       "      <td>5.8</td>\n",
       "      <td>50.0</td>\n",
       "      <td>3.418</td>\n",
       "      <td>...</td>\n",
       "      <td>1.575</td>\n",
       "      <td>1.9</td>\n",
       "      <td>50.0</td>\n",
       "      <td>0.244</td>\n",
       "      <td>0.107210</td>\n",
       "      <td>0.1</td>\n",
       "      <td>0.2</td>\n",
       "      <td>0.2</td>\n",
       "      <td>0.3</td>\n",
       "      <td>0.6</td>\n",
       "    </tr>\n",
       "    <tr>\n",
       "      <td>versicolor</td>\n",
       "      <td>50.0</td>\n",
       "      <td>5.936</td>\n",
       "      <td>0.516171</td>\n",
       "      <td>4.9</td>\n",
       "      <td>5.600</td>\n",
       "      <td>5.9</td>\n",
       "      <td>6.3</td>\n",
       "      <td>7.0</td>\n",
       "      <td>50.0</td>\n",
       "      <td>2.770</td>\n",
       "      <td>...</td>\n",
       "      <td>4.600</td>\n",
       "      <td>5.1</td>\n",
       "      <td>50.0</td>\n",
       "      <td>1.326</td>\n",
       "      <td>0.197753</td>\n",
       "      <td>1.0</td>\n",
       "      <td>1.2</td>\n",
       "      <td>1.3</td>\n",
       "      <td>1.5</td>\n",
       "      <td>1.8</td>\n",
       "    </tr>\n",
       "    <tr>\n",
       "      <td>virginica</td>\n",
       "      <td>50.0</td>\n",
       "      <td>6.588</td>\n",
       "      <td>0.635880</td>\n",
       "      <td>4.9</td>\n",
       "      <td>6.225</td>\n",
       "      <td>6.5</td>\n",
       "      <td>6.9</td>\n",
       "      <td>7.9</td>\n",
       "      <td>50.0</td>\n",
       "      <td>2.974</td>\n",
       "      <td>...</td>\n",
       "      <td>5.875</td>\n",
       "      <td>6.9</td>\n",
       "      <td>50.0</td>\n",
       "      <td>2.026</td>\n",
       "      <td>0.274650</td>\n",
       "      <td>1.4</td>\n",
       "      <td>1.8</td>\n",
       "      <td>2.0</td>\n",
       "      <td>2.3</td>\n",
       "      <td>2.5</td>\n",
       "    </tr>\n",
       "  </tbody>\n",
       "</table>\n",
       "<p>3 rows × 32 columns</p>\n",
       "</div>"
      ],
      "text/plain": [
       "           sepal_length                                              \\\n",
       "                  count   mean       std  min    25%  50%  75%  max   \n",
       "species                                                               \n",
       "setosa             50.0  5.006  0.352490  4.3  4.800  5.0  5.2  5.8   \n",
       "versicolor         50.0  5.936  0.516171  4.9  5.600  5.9  6.3  7.0   \n",
       "virginica          50.0  6.588  0.635880  4.9  6.225  6.5  6.9  7.9   \n",
       "\n",
       "           sepal_width         ... petal_length      petal_width         \\\n",
       "                 count   mean  ...          75%  max       count   mean   \n",
       "species                        ...                                        \n",
       "setosa            50.0  3.418  ...        1.575  1.9        50.0  0.244   \n",
       "versicolor        50.0  2.770  ...        4.600  5.1        50.0  1.326   \n",
       "virginica         50.0  2.974  ...        5.875  6.9        50.0  2.026   \n",
       "\n",
       "                                               \n",
       "                 std  min  25%  50%  75%  max  \n",
       "species                                        \n",
       "setosa      0.107210  0.1  0.2  0.2  0.3  0.6  \n",
       "versicolor  0.197753  1.0  1.2  1.3  1.5  1.8  \n",
       "virginica   0.274650  1.4  1.8  2.0  2.3  2.5  \n",
       "\n",
       "[3 rows x 32 columns]"
      ]
     },
     "execution_count": 9,
     "metadata": {},
     "output_type": "execute_result"
    }
   ],
   "source": [
    "data.groupby(\"species\").describe()"
   ]
  },
  {
   "cell_type": "markdown",
   "metadata": {},
   "source": [
    "### Visualising the data\n",
    "We will use three ways to visualise the data here. \n",
    "1. Scatter Plot\n",
    "2. Box plot \n",
    "3. Histogram\n",
    "4. Violinplots on each attribute for each species"
   ]
  },
  {
   "cell_type": "markdown",
   "metadata": {},
   "source": [
    "### 1. Scatter Plot\n",
    "Scatter graphs in Python can be created using Matplotlib. \n",
    "Need to import the Iris dataset in a different format than used above for the boxplot.\n",
    "sklearn is a library from the Scikitlearn package where the dataset is stored there."
   ]
  },
  {
   "cell_type": "code",
   "execution_count": 1,
   "metadata": {},
   "outputs": [
    {
     "data": {
      "image/png": "[encoded data removed]",
      "text/plain": [
       "<matplotlib.figure.Figure at 0x1e58bd1e748>"
      ]
     },
     "metadata": {},
     "output_type": "display_data"
    }
   ],
   "source": [
    "import matplotlib.pyplot as plt\n",
    "from sklearn.datasets import load_iris\n",
    "# iris_sklearn\n",
    "iris_sklearn = load_iris()\n",
    "\n",
    "# Need to set x axis to 0, i.e.similar to row wise setting in Python3 as used above. \n",
    "\n",
    "x_index = 0\n",
    "\n",
    "y_index = 1\n",
    " \n",
    "# this formatter will label the colorbar with the correct target names\n",
    "formatter = plt.FuncFormatter(lambda i, *args: iris_sklearn.target_names[int(i)])\n",
    "# Reference : https://www.scipy-lectures.org/packages/scikit-learn/auto_examples/plot_iris_scatter.html\n",
    "\n",
    "# Use of 'figsize' command to increase the size of the plot. \n",
    "plt.figure(figsize=(10, 9))\n",
    "\n",
    "plt.scatter(iris_sklearn.data[:, x_index], iris_sklearn.data[:, y_index], c=iris_sklearn.target)\n",
    "\n",
    "plt.colorbar(ticks=[0, 1, 2], format=formatter)\n",
    "\n",
    "plt.xlabel(iris_sklearn.feature_names[x_index])\n",
    "\n",
    "plt.ylabel(iris_sklearn.feature_names[y_index])\n",
    "\n",
    "\n",
    "plt.show()"
   ]
  },
  {
   "cell_type": "markdown",
   "metadata": {},
   "source": [
    "## Analysis of Result [7]\n",
    "\n",
    "Colour has been introduced to distinguish the 3 species from each other.\n",
    "\n",
    "A scatterplot graphs is used to see trends in the data and is interpreted from left to right.\n",
    "\n",
    "#### Advantage of scatterplot:\n",
    "All data points are visible and the outliers are easier to locate,for example species Setosa(in purple above) has an outlier towards the lower limit and Virginica(in yellow) has 3 outliers towards the upper limit.\n",
    "\n",
    "#### Disadvantage: \n",
    "Where the data shows not follow a linear trend, it is difficult to dicipher relatinships between the variables. It is also very hard to see the exact results for median, quartiles and percentiles.\n",
    "\n",
    "Misinterpretation of results can occur as the satterplot displays relationships, correlations which may not depending on the sample and population sizes.\n"
   ]
  },
  {
   "cell_type": "markdown",
   "metadata": {},
   "source": [
    "### 2. Boxplot [8]\n",
    "Use of BoxPlot function from Pandas to create the boxplots for each of 3 Species and show the 4 attributes (sepal & petal width and length)\n",
    "Boxplot does not display the plots automatically so need to use the function \".show\" from the Matploblib\n",
    "Adding the function \"figsize=(12,8)\" increases the size of the boxplots as the first output was hard to read\n"
   ]
  },
  {
   "cell_type": "code",
   "execution_count": 11,
   "metadata": {},
   "outputs": [
    {
     "data": {
      "image/png": "[encoded data removed]",
      "text/plain": [
       "<Figure size 1008x720 with 4 Axes>"
      ]
     },
     "metadata": {
      "needs_background": "light"
     },
     "output_type": "display_data"
    }
   ],
   "source": [
    "import matplotlib.pyplot as plt\n",
    "data.boxplot(by='species',figsize=(14,10))\n",
    "plt.show()"
   ]
  },
  {
   "cell_type": "markdown",
   "metadata": {},
   "source": [
    "### Analysis of results\n",
    "#### Petal length and width: \n",
    "Setosa is the vaiety with the lowest petal length and width. Virginica the species with the highest \n",
    "Overall, the box plot summary shows that petal length is larger compared to petal width.\n",
    "\n",
    "#### Sepal length and width : \n",
    "Sestosa is the variety with the lowest sepal length but Versicolor has the lowest width. Virginica is the species with the highest sepal length but Sestosa has the highest sepal width.\n",
    "Overall, the box plot summary shows that sepal length is more than sepal width.\n",
    "\n",
    "#### Results for individual species:\n",
    "For sepal analysis : Virginica has 3 outliers, 1 each for sepal length and 2 for sepal width.\n",
    "For petal analysis : Sestosa has 5 outliers - 3 for petal length and 2 for petal width.\n",
    "                   : Versicolor has 1 outlier on the lower extreme. \n"
   ]
  },
  {
   "cell_type": "markdown",
   "metadata": {},
   "source": [
    "### Histograms compared as the second alternative. [9] \n",
    "\n",
    "A histogram is used to display the 'underlying frequency distribution (shape) of a set of continuous data.'\n",
    "This concept was first introduced by Karl Pearson\n"
   ]
  },
  {
   "cell_type": "code",
   "execution_count": 12,
   "metadata": {},
   "outputs": [
    {
     "data": {
      "image/png": "[encoded data removed]",
      "text/plain": [
       "<Figure size 432x288 with 4 Axes>"
      ]
     },
     "metadata": {
      "needs_background": "light"
     },
     "output_type": "display_data"
    },
    {
     "data": {
      "text/plain": [
       "<Figure size 1440x1440 with 0 Axes>"
      ]
     },
     "metadata": {},
     "output_type": "display_data"
    }
   ],
   "source": [
    "import matplotlib.pyplot as plt\n",
    "# from sklearn.datasets import load_iris\n",
    "\n",
    "fig, axes = plt.subplots(nrows= 2, ncols=2)\n",
    "# Assigning different colours to the 3 species, Setosa, Versicolor and Virginica with \n",
    "colors= ['blue', 'red', 'green']\n",
    "\n",
    "for i, ax in enumerate(axes.flat):\n",
    "    for label, color in zip(range(len(iris_sklearn.target_names)), colors):\n",
    "        ax.hist(iris_sklearn.data[iris_sklearn.target==label, i], label= iris_sklearn.target_names[label], color=color)\n",
    "        ax.set_xlabel(iris_sklearn.feature_names[i])  \n",
    "        ax.legend(loc='upper right')\n",
    "        \n",
    "plt.figure(figsize=(20,20))        \n",
    "plt.show()"
   ]
  },
  {
   "cell_type": "markdown",
   "metadata": {},
   "source": [
    "## Analysis of results\n",
    "\n",
    "Similar to scatterplots, colour is also introduced in histograms to distinguish the 3 species from each other.\n",
    "By looking at the histograms initially, petal length and petal width for Sestosa appear to branch away from the normal distribution.\n",
    "\n",
    "#### Advantage of histogram: \n",
    "Histogram makes interpretation of the data much easier. For example, over all the data for sepal width follows a normal distribution.\n",
    "It is easier to identify overlap of the data distribution. In the histogram shown for sepal length, Versicolor adn Virginica species overlap.\n",
    "\n",
    "#### Disadvantage of histogram: \n",
    "Histograms do not display outlier data and therefore misinterpretation of results can occur as there are are known outliers from the boxplot and scatterplot. \n",
    "\n"
   ]
  },
  {
   "cell_type": "markdown",
   "metadata": {},
   "source": [
    "## Violin Plot"
   ]
  },
  {
   "cell_type": "code",
   "execution_count": 13,
   "metadata": {
    "collapsed": true
   },
   "outputs": [],
   "source": [
    "import seaborn as sns\n",
    "sns.set(color_codes=True)"
   ]
  },
  {
   "cell_type": "code",
   "execution_count": 14,
   "metadata": {},
   "outputs": [
    {
     "data": {
      "text/plain": [
       "<matplotlib.axes._subplots.AxesSubplot at 0x11c9c45f8>"
      ]
     },
     "execution_count": 14,
     "metadata": {},
     "output_type": "execute_result"
    },
    {
     "data": {
      "image/png": "[encoded data removed]",
      "text/plain": [
       "<Figure size 432x288 with 1 Axes>"
      ]
     },
     "metadata": {},
     "output_type": "display_data"
    }
   ],
   "source": [
    "sns.violinplot(data=data,x=\"species\", y=\"sepal_length\")"
   ]
  },
  {
   "cell_type": "code",
   "execution_count": 15,
   "metadata": {},
   "outputs": [
    {
     "data": {
      "text/plain": [
       "<matplotlib.axes._subplots.AxesSubplot at 0x131ae4fd0>"
      ]
     },
     "execution_count": 15,
     "metadata": {},
     "output_type": "execute_result"
    },
    {
     "data": {
      "image/png": "[encoded data removed]",
      "text/plain": [
       "<Figure size 432x288 with 1 Axes>"
      ]
     },
     "metadata": {},
     "output_type": "display_data"
    }
   ],
   "source": [
    "sns.violinplot(data=data,x=\"species\", y=\"sepal_width\")"
   ]
  },
  {
   "cell_type": "code",
   "execution_count": 16,
   "metadata": {},
   "outputs": [
    {
     "data": {
      "text/plain": [
       "<matplotlib.axes._subplots.AxesSubplot at 0x131a9e128>"
      ]
     },
     "execution_count": 16,
     "metadata": {},
     "output_type": "execute_result"
    },
    {
     "data": {
      "image/png": "[encoded data removed]",
      "text/plain": [
       "<Figure size 432x288 with 1 Axes>"
      ]
     },
     "metadata": {},
     "output_type": "display_data"
    }
   ],
   "source": [
    "sns.violinplot(data=data,x=\"species\", y=\"petal_length\")"
   ]
  },
  {
   "cell_type": "code",
   "execution_count": 17,
   "metadata": {},
   "outputs": [
    {
     "data": {
      "text/plain": [
       "<matplotlib.axes._subplots.AxesSubplot at 0x131cedcc0>"
      ]
     },
     "execution_count": 17,
     "metadata": {},
     "output_type": "execute_result"
    },
    {
     "data": {
      "image/png": "[encoded data removed]",
      "text/plain": [
       "<Figure size 432x288 with 1 Axes>"
      ]
     },
     "metadata": {},
     "output_type": "display_data"
    }
   ],
   "source": [
    "sns.violinplot(data=data,x=\"species\", y=\"petal_width\")"
   ]
  },
  {
   "cell_type": "markdown",
   "metadata": {},
   "source": [
    "## Analysis of Results [10] [11]\n",
    "\n",
    "* The above Violin Boxplot of Species shows that Iris Virginica has highest median value in petal length, petal width and sepal length when compared against Versicolor and Setosa. \n",
    "* However, Iris Setosa has the highest sepal width median value. \n",
    "* There is a significant difference between Setosa’s sepal length and sepal width against its petal length and petalwidth. \n",
    "* That differene is smaller in Versicolor and Virginica. \n",
    "* The violin plot also indicates that the weight of the Virginica sepal width and petal width are highly concentrated around the median."
   ]
  },
  {
   "cell_type": "markdown",
   "metadata": {},
   "source": [
    "### Reference links: \n",
    "\n",
    "[1] https://towardsdatascience.com/be-a-more-efficient-data-scientist-today-master-pandas-with-this-guide-ea362d27386\n",
    "https://pandas.pydata.org/pandas-docs/stable/getting_started/overview.html\n",
    "    \n",
    "[2] https://anaconda.org/anaconda/pandas\n",
    "\n",
    "[3] https://docs.scipy.org/doc/numpy-1.13.0/user/whatisnumpy.html\n",
    "\n",
    "[4] https://towardsdatascience.com/why-and-how-to-use-pandas-with-large-data-9594dda2ea4c\n",
    "\n",
    "[5] https://pandas.pydata.org/pandas-docs/stable/getting_started/overview.html\n",
    "\n",
    "[6] https://pandas.pydata.org/pandas-docs/stable/whatsnew/v0.25.0.html\n",
    "\n",
    "[7] https://www.dummies.com/education/math/statistics/how-to-interpret-a-scatterplot/\n",
    "\n",
    "[8] https://pandas.pydata.org/pandas\n",
    "\n",
    "[9] https://statistics.laerd.com/statistical-guides/understanding-histograms.php\n",
    "\n",
    "[10] https://www.kaggle.com/adityabhat24/iris-data-analysis-and-machine-learning-python\n",
    "\n",
    "[11] http://rstudio-pubs-static.s3.amazonaws.com/321676_20be34434fe44ed2b229eadeabe0eb98.html"
   ]
  }
 ],
 "metadata": {
  "kernelspec": {
   "display_name": "Python 3",
   "language": "python",
   "name": "python3"
  },
  "language_info": {
   "codemirror_mode": {
    "name": "ipython",
    "version": 3
   },
   "file_extension": ".py",
   "mimetype": "text/x-python",
   "name": "python",
   "nbconvert_exporter": "python",
   "pygments_lexer": "ipython3",
   "version": "3.6.3"
  }
 },
 "nbformat": 4,
 "nbformat_minor": 2
}
