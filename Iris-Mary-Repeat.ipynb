{
 "cells": [
  {
   "cell_type": "markdown",
   "metadata": {},
   "source": [
    "# Fundamentals of Data Analytics project re Boxplot using Iris dataset.\n",
    "## Mary McHale -  G00253431"
   ]
  },
  {
   "cell_type": "markdown",
   "metadata": {},
   "source": [
    "\n",
    "This project requires writing a pandas tutorial in jupyter notebook. \n",
    "It will cover the following:\n",
    "     (1) How to install pandas in Python\n",
    "     (2) Functionality of pandas\n",
    "     (3) High-level concepts\n",
    "     (4) How to use pandas\n",
    "     (5) Examples of pandas using the IRIS dataset. \n",
    "        \n",
    "#### Background of pandas:\n",
    "\"pandas is like Excel in Python\" [1]. It is an open source tool for data analysis which conceals all complex calculations.\n",
    "It is a Python package which provides quick adaptable and expressive data structures specifically\n",
    "planned to enable working with “relational” or “labeled” data without much effort and easy to understand. \n",
    "\"relational\"data describes data aranged into tables.\n",
    "\"labeled\" data describes the end result after providing headings to data so that it is organised.\n",
    "\n",
    "panda intends to be the under-lying foundation for doing concrete, business-like and practical data analysis in Python. \n",
    "### Reference links: \n",
    "[1] https://towardsdatascience.com/be-a-more-efficient-data-scientist-today-master-pandas-with-this-guide-ea362d27386\n",
    "https://pandas.pydata.org/pandas-docs/stable/getting_started/overview.html"
   ]
  },
  {
   "cell_type": "markdown",
   "metadata": {},
   "source": [
    "(1) How to install pandas in Python\n",
    "\n",
    "Anaconda is used to complete the installation.\n",
    "The code required is: conda install -c anaconda pandas\n",
    "\n",
    "Part way through the installation, there is a screen prompt 'Proceed (y\\n)?'\n",
    "Type 'y' for the installation to complete.[1]\n",
    "\n",
    "To ensure that the latest version of pandas is being used, the following code needs to be typed into the command line.\n",
    "Cde: python -m pip install --upgrade pandas\n",
    "\n",
    "### Reference link: https://anaconda.org/anaconda/pandas\n",
    "\n",
    "[1] Print out of pandas installation. add in WORD DOC xxxxxxxxxxxxxxxxxxxxxxxxxxxxxxxx\n",
    "\n",
    "As Jupyter notebook is used for the project, pandas then need to brought in here. \n",
    "The code to complete this is 'import pandas as xx'...where xx denotes a shortened name, for example pd"
   ]
  },
  {
   "cell_type": "markdown",
   "metadata": {},
   "source": [
    "(2) Functionality of pandas\n",
    "\n",
    "pandas is compatible with lots of different types of data. \n",
    "There are two primary data structures of pandas and these accommodate most of the requirements in finance, statistics, social science, and lots of sections of engineering. \n",
    " - Series (1-dimensional) and - DataFrame (2-dimensional).\n",
    "\n",
    "The primary source for scientific computing in Python is NumPy (Numerical Python)[1].\n",
    "As pandas is constructed on top of NumPy, it therefore works well within a scientific computing environment with many other 3rd party libraries\n",
    "\n",
    "pandas performs best with small data (in the range 100MB up to 1GB)[2].\n",
    "\n",
    "?Tabular data with heterogeneously-typed columns as in an SQL table or Excel spreadsheet\n",
    "Ordered and unordered (not necessarily fixed-frequency) time series data.\n",
    "\n",
    "?matrix data (homogeneously typed or heterogeneous) with row and column labels\n",
    "Any other form of observational / statistical data sets. The data actually need not be labeled at all to be placed into a pandas data structure\n",
    "\n",
    " ?For R users, DataFrame provides everything that R’s data.frame provides and much more. \n",
    " \n",
    " ??? here or later in examples ???\n",
    " Here are just a few of the things that pandas does well:\n",
    "#### Primary Funtions:\n",
    " (1) Reading data. \n",
    " \n",
    " Commands or code is: read_csv, read_excel\n",
    " Example of code: data = pd.read_csv('my_file.csv')\n",
    " \n",
    "In addition, it can copy data from Excel or the web. Comands or code:  read_clipboard, read_sql\n",
    "\n",
    " (2) Writing data. \n",
    "Strong import and export tools to load data from flat files (CSV and delimited), databases, files from Excel. \n",
    "\n",
    "\n",
    " Commands or code is: .to_excel, .to_json, .to_pickle since .to_csv \n",
    " Example of code: data.to_csv('my_new_file.csv', index=None)\n",
    " \n",
    "In aditions, it allows pasting of results from Python to Excel Comands or code: .to_clipboard\n",
    "\n",
    "(3) Checking data\n",
    "\n",
    "\n",
    "Commands or code is: data.shape\n",
    "data.describe(): This will show the number of rows and columns\n",
    "\n",
    "(4) Seeing the data.\n",
    "\n",
    "\n",
    "Commands or code is: data.head(10). This lists the first 10 rows of data.\n",
    "The similar command data.last(10) lists the last 10 rows of data.\n",
    "These are useful data checks to ensure that the working file is as expected and that no data is missing.\n",
    "\n",
    "\n",
    " To print a specific row of the data the command is: data.loc(3) which would print the third row.\n",
    " \n",
    "(5) Logical operations.....\n",
    "The data can be sub divided into different parts based on using logical operations.\n",
    "Therefore use of \"&\" (AND) in code, \"~\" (NOT) and \"|\" (OR), by adding “(“ and “)” before and after the logical operation\n",
    "\n",
    "Example of code: data[(data['column_1']=='french') & (data['year_born']==1990)]\n",
    "This command would return details of individuals was both French and born in 1990.\n",
    "\n",
    "(6) Basic plotting\n",
    "\n",
    "Basic plotting is achieved in pandas using the matplotlib package which is availabel directly in pandas.\n",
    "\n",
    "Command or code is: .plot\n",
    "Example of code: data['column_numerical'].plot()\n",
    "data['column_numerical'].hist() this displays the output as a histogram\n",
    "\n",
    "(7) Updating the data\n",
    "\n",
    "pandas allow for columns to be deleted and inserted from DataFrame. \n",
    "Example of code: data.loc[10, 'column_1'] = 'irish' This will replace the content of the tenth (10th) row in the column_1 with the word 'irish'.\n",
    "\n",
    "\n",
    "???? Powerful, flexible group by functionality to perform split-apply-combine operations on data sets, for both aggregating and transforming data\n",
    "\n",
    "?? Easy handling of missing data (represented as NaN) in floating point as well as non-floating point data\n",
    "\n",
    "Automatic and explicit data alignment: objects can be explicitly aligned to a set of labels, or the user can simply ignore the labels and let Series, DataFrame, etc. automatically align the data for you in computations\n",
    "\n",
    "\n",
    "Make it easy to convert ragged, differently-indexed data in other Python and NumPy data structures into DataFrame objects\n",
    "\n",
    "Intelligent label-based slicing, fancy indexing, and subsetting of large data sets\n",
    "\n",
    "Intuitive merging and joining data sets\n",
    "\n",
    "Flexible reshaping and pivoting of data sets\n",
    "\n",
    "Hierarchical labeling of axes (possible to have multiple labels per tick)\n",
    "\n",
    "Time series-specific functionality: date range generation and frequency conversion, moving window statistics, moving window linear regressions, date shifting and lagging, etc.\n",
    "\n",
    "Many of these principles are here to address the shortcomings frequently experienced using other languages / scientific research environments. \n",
    "In summary, the transition of data into information usually follows the sequence of data cleansing, modeling \\ analysing it, then formating the results so that they can be plotted or shown in table format. pandas accomodates all these requirements. \n",
    "\n",
    "\n",
    "### Reference links: \n",
    "[1] https://docs.scipy.org/doc/numpy-1.13.0/user/whatisnumpy.html\n",
    "\n",
    "[2] https://towardsdatascience.com/why-and-how-to-use-pandas-with-large-data-9594dda2ea4c\n",
    "\n",
    "\n",
    "https://pandas.pydata.org/pandas-docs/stable/getting_started/overview.html"
   ]
  },
  {
   "cell_type": "markdown",
   "metadata": {},
   "source": [
    "(2) Functionality of pandas\n",
    "\n",
    "pandas is compatible with lots of different types of data. \n",
    "There are two primary data structures of pandas and these accommodate most of the requirements in finance, statistics, social science, and lots of sections of engineering. \n",
    " - Series (1-dimensional) and - DataFrame (2-dimensional).\n",
    "\n",
    "The primary source for scientific computing in Python is NumPy (Numerical Python)[1].\n",
    "As pandas is constructed on top of NumPy, it therefore works well within a scientific computing environment with many other 3rd party libraries\n",
    "\n",
    "pandas performs best with small data (in the range 100MB up to 1GB)[2].\n",
    "\n",
    "?Tabular data with heterogeneously-typed columns as in an SQL table or Excel spreadsheet\n",
    "Ordered and unordered (not necessarily fixed-frequency) time series data.\n",
    "\n",
    "?matrix data (homogeneously typed or heterogeneous) with row and column labels\n",
    "Any other form of observational / statistical data sets. The data actually need not be labeled at all to be placed into a pandas data structure\n",
    "\n",
    " ?For R users, DataFrame provides everything that R’s data.frame provides and much more. \n",
    " \n",
    " ??? here or later in examples ???\n",
    " Here are just a few of the things that pandas does well:\n",
    "#### Primary Funtions:\n",
    " (1) Reading data. \n",
    " \n",
    " Commands or code is: read_csv, read_excel\n",
    " Example of code: data = pd.read_csv('my_file.csv')\n",
    " \n",
    "In addition, it can copy data from Excel or the web. Comands or code:  read_clipboard, read_sql\n",
    "\n",
    " (2) Writing data. \n",
    "\n",
    " Commands or code is: .to_excel, .to_json, .to_pickle since .to_csv \n",
    " Example of code: data.to_csv('my_new_file.csv', index=None)\n",
    " \n",
    "In aditions, it allows pasting of results from Python to Excel Comands or code: .to_clipboard\n",
    "\n",
    "(3) Checking data\n",
    "\n",
    "\n",
    "Commands or code is: data.shape\n",
    "data.describe(): This will show the number of rows and columns\n",
    "\n",
    "(4) Seeing the data.\n",
    "\n",
    "\n",
    "Commands or code is: data.head(10). This lists the first 10 rows of data.\n",
    "The similar command data.last(10) lists the last 10 rows of data.\n",
    "These are useful data checks to ensure that the working file is as expected and that no data is missing.\n",
    "\n",
    "\n",
    " To print a specific row of the data the command is: data.loc(3) which would print the third row.\n",
    " \n",
    "(5) Logical operations.....\n",
    "The data can be sub divided into different parts based on using logical operations.\n",
    "Therefore use of \"&\" (AND) in code, \"~\" (NOT) and \"|\" (OR), by adding “(“ and “)” before and after the logical operation\n",
    "\n",
    "Example of code: data[(data['column_1']=='french') & (data['year_born']==1990)]\n",
    "This command would return details of individuals was both French and born in 1990.\n",
    "\n",
    "(6) Basic plotting\n",
    "\n",
    "Basic plotting is achieved in pandas using the matplotlib package which is availabel directly in pandas.\n",
    "\n",
    "Command or code is: .plot\n",
    "Example of code: data['column_numerical'].plot()\n",
    "data['column_numerical'].hist() this displays the output as a histogram\n",
    "\n",
    "(7) Updating the data\n",
    "\n",
    "\n",
    "Example of code: data.loc[10, 'column_1'] = 'irish' This will replace the content of the tenth (10th) row in the column_1 with the word 'irish'.\n",
    "\n",
    "\n",
    "\n",
    "\n",
    "\n",
    "\n",
    "\n",
    "Easy handling of missing data (represented as NaN) in floating point as well as non-floating point data\n",
    "\n",
    "Size mutability: columns can be inserted and deleted from DataFrame and higher dimensional objects\n",
    "\n",
    "Automatic and explicit data alignment: objects can be explicitly aligned to a set of labels, or the user can simply ignore the labels and let Series, DataFrame, etc. automatically align the data for you in computations\n",
    "\n",
    "Powerful, flexible group by functionality to perform split-apply-combine operations on data sets, for both aggregating and transforming data\n",
    "\n",
    "Make it easy to convert ragged, differently-indexed data in other Python and NumPy data structures into DataFrame objects\n",
    "\n",
    "Intelligent label-based slicing, fancy indexing, and subsetting of large data sets\n",
    "\n",
    "Intuitive merging and joining data sets\n",
    "\n",
    "Flexible reshaping and pivoting of data sets\n",
    "\n",
    "Hierarchical labeling of axes (possible to have multiple labels per tick)\n",
    "\n",
    "Robust IO tools for loading data from flat files (CSV and delimited), Excel files, databases, and saving / loading data from the ultrafast HDF5 format\n",
    "\n",
    "Time series-specific functionality: date range generation and frequency conversion, moving window statistics, moving window linear regressions, date shifting and lagging, etc.\n",
    "\n",
    "Many of these principles are here to address the shortcomings frequently experienced using other languages / scientific research environments. For data scientists, working with data is typically divided into multiple stages: munging and cleaning data, analyzing / modeling it, then organizing the results of the analysis into a form suitable for plotting or tabular display. pandas is the ideal tool for all of these tasks.\n",
    "\n",
    "\n",
    "### Reference links: \n",
    "[1] https://docs.scipy.org/doc/numpy-1.13.0/user/whatisnumpy.html\n",
    "\n",
    "[2] https://towardsdatascience.com/why-and-how-to-use-pandas-with-large-data-9594dda2ea4c\n",
    "\n",
    "\n",
    "https://pandas.pydata.org/pandas-docs/stable/getting_started/overview.html\n",
    "    \n",
    "(3) High-level concepts\n",
    "\n",
    "\n",
    "\n",
    "\n",
    "High level concepts pertain to the use of data frames.\n",
    "These are defined as \n",
    "\n",
    "\n",
    "Picture of dataframe\n",
    "\n",
    "A dataframe can be created from a list or  "
   ]
  },
  {
   "cell_type": "markdown",
   "metadata": {},
   "source": [
    "## Analysis of Iris Dataset - Background\n",
    "Iris dataset was introduced by Ronald Fischer, a british statistician and biologist in 1936. Fischer developed a linear model to distingush the species from each other. The dataset contains sets of data for 3 varieties of the Iris flower - Sentosa, Versicolor and Virginica. 50 data readings were collected for these 3 varieties under the following 4 attributes - sepal width and length and petal width and length.\n",
    "\n",
    "History of the box plot\n",
    "The first boxplot were created in 1970 by a statistician named John Tukey using paper and pencil and became more widely known post publication in 1977. It displays the distribution of the data based and splits the data into quartiles whhere the data is sorted and divided into 4 equal parts.\n",
    "\n",
    "Box plot terminology\n",
    "Quartile : Describes 25% of the data, for example Q1 = data from 0% to 25%.\n",
    "\n",
    "Percentile : Describes the highest data point in a quartile, for example Qartile 1 corresponds to Percentile 25.\n",
    "\n",
    "Outliers : These are the data points which are the furthest away from the median than the extremes. The box plot displays the outliers and their values, shows if the data is symmetrical, if close together and if the data is 'skewed'. In addition, there are also:\n",
    "\n",
    "{1) 'Minimum' : The term to describe the lower extreme.\n",
    "(2) First quartile (Q1) : The term to describe the middle number between the lower number and the median.\n",
    "(3) Median : The term to describe the mid point value of the dataset.\n",
    "(4) Third Quartile (Q3) : The term to describe the middle number between the higher number and the median.\n",
    "(5) 'Maximum' : The term to describe the upper extreme.\n",
    "\n",
    "## Note:\n",
    "Different pandas functionalities have been used within this section where we analyse iris datset."
   ]
  },
  {
   "cell_type": "markdown",
   "metadata": {},
   "source": [
    "## Checking pandas version\n",
    "The cell below shows the version of pandas that we are using -"
   ]
  },
  {
   "cell_type": "code",
   "execution_count": 3,
   "metadata": {},
   "outputs": [
    {
     "data": {
      "text/plain": [
       "'0.25.1'"
      ]
     },
     "execution_count": 3,
     "metadata": {},
     "output_type": "execute_result"
    }
   ],
   "source": [
    "import pandas as pd\n",
    "pd.__version__"
   ]
  },
  {
   "cell_type": "markdown",
   "metadata": {},
   "source": [
    "## Reading the dataset"
   ]
  },
  {
   "cell_type": "code",
   "execution_count": 6,
   "metadata": {},
   "outputs": [
    {
     "data": {
      "text/html": [
       "<div>\n",
       "<style scoped>\n",
       "    .dataframe tbody tr th:only-of-type {\n",
       "        vertical-align: middle;\n",
       "    }\n",
       "\n",
       "    .dataframe tbody tr th {\n",
       "        vertical-align: top;\n",
       "    }\n",
       "\n",
       "    .dataframe thead th {\n",
       "        text-align: right;\n",
       "    }\n",
       "</style>\n",
       "<table border=\"1\" class=\"dataframe\">\n",
       "  <thead>\n",
       "    <tr style=\"text-align: right;\">\n",
       "      <th></th>\n",
       "      <th>sepal_length</th>\n",
       "      <th>sepal_width</th>\n",
       "      <th>petal_length</th>\n",
       "      <th>petal_width</th>\n",
       "      <th>species</th>\n",
       "    </tr>\n",
       "  </thead>\n",
       "  <tbody>\n",
       "    <tr>\n",
       "      <td>0</td>\n",
       "      <td>5.1</td>\n",
       "      <td>3.5</td>\n",
       "      <td>1.4</td>\n",
       "      <td>0.2</td>\n",
       "      <td>setosa</td>\n",
       "    </tr>\n",
       "    <tr>\n",
       "      <td>1</td>\n",
       "      <td>4.9</td>\n",
       "      <td>3.0</td>\n",
       "      <td>1.4</td>\n",
       "      <td>0.2</td>\n",
       "      <td>setosa</td>\n",
       "    </tr>\n",
       "    <tr>\n",
       "      <td>2</td>\n",
       "      <td>4.7</td>\n",
       "      <td>3.2</td>\n",
       "      <td>1.3</td>\n",
       "      <td>0.2</td>\n",
       "      <td>setosa</td>\n",
       "    </tr>\n",
       "    <tr>\n",
       "      <td>3</td>\n",
       "      <td>4.6</td>\n",
       "      <td>3.1</td>\n",
       "      <td>1.5</td>\n",
       "      <td>0.2</td>\n",
       "      <td>setosa</td>\n",
       "    </tr>\n",
       "    <tr>\n",
       "      <td>4</td>\n",
       "      <td>5.0</td>\n",
       "      <td>3.6</td>\n",
       "      <td>1.4</td>\n",
       "      <td>0.2</td>\n",
       "      <td>setosa</td>\n",
       "    </tr>\n",
       "    <tr>\n",
       "      <td>...</td>\n",
       "      <td>...</td>\n",
       "      <td>...</td>\n",
       "      <td>...</td>\n",
       "      <td>...</td>\n",
       "      <td>...</td>\n",
       "    </tr>\n",
       "    <tr>\n",
       "      <td>145</td>\n",
       "      <td>6.7</td>\n",
       "      <td>3.0</td>\n",
       "      <td>5.2</td>\n",
       "      <td>2.3</td>\n",
       "      <td>virginica</td>\n",
       "    </tr>\n",
       "    <tr>\n",
       "      <td>146</td>\n",
       "      <td>6.3</td>\n",
       "      <td>2.5</td>\n",
       "      <td>5.0</td>\n",
       "      <td>1.9</td>\n",
       "      <td>virginica</td>\n",
       "    </tr>\n",
       "    <tr>\n",
       "      <td>147</td>\n",
       "      <td>6.5</td>\n",
       "      <td>3.0</td>\n",
       "      <td>5.2</td>\n",
       "      <td>2.0</td>\n",
       "      <td>virginica</td>\n",
       "    </tr>\n",
       "    <tr>\n",
       "      <td>148</td>\n",
       "      <td>6.2</td>\n",
       "      <td>3.4</td>\n",
       "      <td>5.4</td>\n",
       "      <td>2.3</td>\n",
       "      <td>virginica</td>\n",
       "    </tr>\n",
       "    <tr>\n",
       "      <td>149</td>\n",
       "      <td>5.9</td>\n",
       "      <td>3.0</td>\n",
       "      <td>5.1</td>\n",
       "      <td>1.8</td>\n",
       "      <td>virginica</td>\n",
       "    </tr>\n",
       "  </tbody>\n",
       "</table>\n",
       "<p>150 rows × 5 columns</p>\n",
       "</div>"
      ],
      "text/plain": [
       "     sepal_length  sepal_width  petal_length  petal_width    species\n",
       "0             5.1          3.5           1.4          0.2     setosa\n",
       "1             4.9          3.0           1.4          0.2     setosa\n",
       "2             4.7          3.2           1.3          0.2     setosa\n",
       "3             4.6          3.1           1.5          0.2     setosa\n",
       "4             5.0          3.6           1.4          0.2     setosa\n",
       "..            ...          ...           ...          ...        ...\n",
       "145           6.7          3.0           5.2          2.3  virginica\n",
       "146           6.3          2.5           5.0          1.9  virginica\n",
       "147           6.5          3.0           5.2          2.0  virginica\n",
       "148           6.2          3.4           5.4          2.3  virginica\n",
       "149           5.9          3.0           5.1          1.8  virginica\n",
       "\n",
       "[150 rows x 5 columns]"
      ]
     },
     "execution_count": 6,
     "metadata": {},
     "output_type": "execute_result"
    }
   ],
   "source": [
    "data=pd.read_csv(\"data/iris.csv\")\n",
    "data"
   ]
  },
  {
   "cell_type": "code",
   "execution_count": 7,
   "metadata": {},
   "outputs": [
    {
     "name": "stdout",
     "output_type": "stream",
     "text": [
      "Total Number of (Rows,Columns) : (150, 5)\n"
     ]
    }
   ],
   "source": [
    "print(\"Total Number of (Rows,Columns) :\",data.shape)"
   ]
  },
  {
   "cell_type": "markdown",
   "metadata": {},
   "source": [
    "## Describing the data\n",
    "The Cell below shows the Count, Mean, Min, Max, Standard Deviation and Median of the data being used. It also shows the Specie with minimum and maximum values. "
   ]
  },
  {
   "cell_type": "code",
   "execution_count": 8,
   "metadata": {},
   "outputs": [
    {
     "name": "stdout",
     "output_type": "stream",
     "text": [
      "Count \n",
      " sepal_length    150\n",
      "sepal_width     150\n",
      "petal_length    150\n",
      "petal_width     150\n",
      "species         150\n",
      "dtype: int64 \n",
      "\n",
      "Mean \n",
      " sepal_length    5.843333\n",
      "sepal_width     3.054000\n",
      "petal_length    3.758667\n",
      "petal_width     1.198667\n",
      "dtype: float64 \n",
      "\n",
      "Min \n",
      " sepal_length       4.3\n",
      "sepal_width          2\n",
      "petal_length         1\n",
      "petal_width        0.1\n",
      "species         setosa\n",
      "dtype: object \n",
      "\n",
      "Max \n",
      " sepal_length          7.9\n",
      "sepal_width           4.4\n",
      "petal_length          6.9\n",
      "petal_width           2.5\n",
      "species         virginica\n",
      "dtype: object \n",
      "\n",
      "Median \n",
      " sepal_length    5.80\n",
      "sepal_width     3.00\n",
      "petal_length    4.35\n",
      "petal_width     1.30\n",
      "dtype: float64 \n",
      "\n",
      "Std Dev. \n",
      " sepal_length    0.828066\n",
      "sepal_width     0.433594\n",
      "petal_length    1.764420\n",
      "petal_width     0.763161\n",
      "dtype: float64 \n",
      "\n"
     ]
    }
   ],
   "source": [
    "print(\"Count \\n\",data.count(axis=0),\"\\n\")\n",
    "print(\"Mean \\n\",data.mean(axis=0),\"\\n\")\n",
    "print(\"Min \\n\",data.min(axis=0),\"\\n\")\n",
    "print(\"Max \\n\",data.max(axis=0),\"\\n\")\n",
    "print(\"Median \\n\",data.median(axis=0),\"\\n\")\n",
    "print(\"Std Dev. \\n\",data.std(axis=0),\"\\n\")"
   ]
  },
  {
   "cell_type": "markdown",
   "metadata": {},
   "source": [
    "But the cell above does not show the quartile ranges. In order to fetch that detail we can use the describe function mention below. The describe function gives all other details as well along with the quartile ranges. so it is a better thing to use describe()."
   ]
  },
  {
   "cell_type": "code",
   "execution_count": 9,
   "metadata": {},
   "outputs": [
    {
     "data": {
      "text/html": [
       "<div>\n",
       "<style scoped>\n",
       "    .dataframe tbody tr th:only-of-type {\n",
       "        vertical-align: middle;\n",
       "    }\n",
       "\n",
       "    .dataframe tbody tr th {\n",
       "        vertical-align: top;\n",
       "    }\n",
       "\n",
       "    .dataframe thead th {\n",
       "        text-align: right;\n",
       "    }\n",
       "</style>\n",
       "<table border=\"1\" class=\"dataframe\">\n",
       "  <thead>\n",
       "    <tr style=\"text-align: right;\">\n",
       "      <th></th>\n",
       "      <th>sepal_length</th>\n",
       "      <th>sepal_width</th>\n",
       "      <th>petal_length</th>\n",
       "      <th>petal_width</th>\n",
       "    </tr>\n",
       "  </thead>\n",
       "  <tbody>\n",
       "    <tr>\n",
       "      <td>count</td>\n",
       "      <td>150.000000</td>\n",
       "      <td>150.000000</td>\n",
       "      <td>150.000000</td>\n",
       "      <td>150.000000</td>\n",
       "    </tr>\n",
       "    <tr>\n",
       "      <td>mean</td>\n",
       "      <td>5.843333</td>\n",
       "      <td>3.054000</td>\n",
       "      <td>3.758667</td>\n",
       "      <td>1.198667</td>\n",
       "    </tr>\n",
       "    <tr>\n",
       "      <td>std</td>\n",
       "      <td>0.828066</td>\n",
       "      <td>0.433594</td>\n",
       "      <td>1.764420</td>\n",
       "      <td>0.763161</td>\n",
       "    </tr>\n",
       "    <tr>\n",
       "      <td>min</td>\n",
       "      <td>4.300000</td>\n",
       "      <td>2.000000</td>\n",
       "      <td>1.000000</td>\n",
       "      <td>0.100000</td>\n",
       "    </tr>\n",
       "    <tr>\n",
       "      <td>25%</td>\n",
       "      <td>5.100000</td>\n",
       "      <td>2.800000</td>\n",
       "      <td>1.600000</td>\n",
       "      <td>0.300000</td>\n",
       "    </tr>\n",
       "    <tr>\n",
       "      <td>50%</td>\n",
       "      <td>5.800000</td>\n",
       "      <td>3.000000</td>\n",
       "      <td>4.350000</td>\n",
       "      <td>1.300000</td>\n",
       "    </tr>\n",
       "    <tr>\n",
       "      <td>75%</td>\n",
       "      <td>6.400000</td>\n",
       "      <td>3.300000</td>\n",
       "      <td>5.100000</td>\n",
       "      <td>1.800000</td>\n",
       "    </tr>\n",
       "    <tr>\n",
       "      <td>max</td>\n",
       "      <td>7.900000</td>\n",
       "      <td>4.400000</td>\n",
       "      <td>6.900000</td>\n",
       "      <td>2.500000</td>\n",
       "    </tr>\n",
       "  </tbody>\n",
       "</table>\n",
       "</div>"
      ],
      "text/plain": [
       "       sepal_length  sepal_width  petal_length  petal_width\n",
       "count    150.000000   150.000000    150.000000   150.000000\n",
       "mean       5.843333     3.054000      3.758667     1.198667\n",
       "std        0.828066     0.433594      1.764420     0.763161\n",
       "min        4.300000     2.000000      1.000000     0.100000\n",
       "25%        5.100000     2.800000      1.600000     0.300000\n",
       "50%        5.800000     3.000000      4.350000     1.300000\n",
       "75%        6.400000     3.300000      5.100000     1.800000\n",
       "max        7.900000     4.400000      6.900000     2.500000"
      ]
     },
     "execution_count": 9,
     "metadata": {},
     "output_type": "execute_result"
    }
   ],
   "source": [
    "data.describe()"
   ]
  },
  {
   "cell_type": "markdown",
   "metadata": {},
   "source": [
    "## Using the group by function \n",
    "\n",
    "The output shows the count, median per type of species. The combination of groupby() + describe() give a more granular look to the values per species."
   ]
  },
  {
   "cell_type": "code",
   "execution_count": 10,
   "metadata": {},
   "outputs": [
    {
     "data": {
      "text/html": [
       "<div>\n",
       "<style scoped>\n",
       "    .dataframe tbody tr th:only-of-type {\n",
       "        vertical-align: middle;\n",
       "    }\n",
       "\n",
       "    .dataframe tbody tr th {\n",
       "        vertical-align: top;\n",
       "    }\n",
       "\n",
       "    .dataframe thead th {\n",
       "        text-align: right;\n",
       "    }\n",
       "</style>\n",
       "<table border=\"1\" class=\"dataframe\">\n",
       "  <thead>\n",
       "    <tr style=\"text-align: right;\">\n",
       "      <th></th>\n",
       "      <th>sepal_length</th>\n",
       "      <th>sepal_width</th>\n",
       "      <th>petal_length</th>\n",
       "      <th>petal_width</th>\n",
       "    </tr>\n",
       "    <tr>\n",
       "      <th>species</th>\n",
       "      <th></th>\n",
       "      <th></th>\n",
       "      <th></th>\n",
       "      <th></th>\n",
       "    </tr>\n",
       "  </thead>\n",
       "  <tbody>\n",
       "    <tr>\n",
       "      <td>setosa</td>\n",
       "      <td>50</td>\n",
       "      <td>50</td>\n",
       "      <td>50</td>\n",
       "      <td>50</td>\n",
       "    </tr>\n",
       "    <tr>\n",
       "      <td>versicolor</td>\n",
       "      <td>50</td>\n",
       "      <td>50</td>\n",
       "      <td>50</td>\n",
       "      <td>50</td>\n",
       "    </tr>\n",
       "    <tr>\n",
       "      <td>virginica</td>\n",
       "      <td>50</td>\n",
       "      <td>50</td>\n",
       "      <td>50</td>\n",
       "      <td>50</td>\n",
       "    </tr>\n",
       "  </tbody>\n",
       "</table>\n",
       "</div>"
      ],
      "text/plain": [
       "            sepal_length  sepal_width  petal_length  petal_width\n",
       "species                                                         \n",
       "setosa                50           50            50           50\n",
       "versicolor            50           50            50           50\n",
       "virginica             50           50            50           50"
      ]
     },
     "execution_count": 10,
     "metadata": {},
     "output_type": "execute_result"
    }
   ],
   "source": [
    "data.groupby(\"species\").count()"
   ]
  },
  {
   "cell_type": "code",
   "execution_count": 11,
   "metadata": {},
   "outputs": [
    {
     "data": {
      "text/html": [
       "<div>\n",
       "<style scoped>\n",
       "    .dataframe tbody tr th:only-of-type {\n",
       "        vertical-align: middle;\n",
       "    }\n",
       "\n",
       "    .dataframe tbody tr th {\n",
       "        vertical-align: top;\n",
       "    }\n",
       "\n",
       "    .dataframe thead th {\n",
       "        text-align: right;\n",
       "    }\n",
       "</style>\n",
       "<table border=\"1\" class=\"dataframe\">\n",
       "  <thead>\n",
       "    <tr style=\"text-align: right;\">\n",
       "      <th></th>\n",
       "      <th>sepal_length</th>\n",
       "      <th>sepal_width</th>\n",
       "      <th>petal_length</th>\n",
       "      <th>petal_width</th>\n",
       "    </tr>\n",
       "    <tr>\n",
       "      <th>species</th>\n",
       "      <th></th>\n",
       "      <th></th>\n",
       "      <th></th>\n",
       "      <th></th>\n",
       "    </tr>\n",
       "  </thead>\n",
       "  <tbody>\n",
       "    <tr>\n",
       "      <td>setosa</td>\n",
       "      <td>5.0</td>\n",
       "      <td>3.4</td>\n",
       "      <td>1.50</td>\n",
       "      <td>0.2</td>\n",
       "    </tr>\n",
       "    <tr>\n",
       "      <td>versicolor</td>\n",
       "      <td>5.9</td>\n",
       "      <td>2.8</td>\n",
       "      <td>4.35</td>\n",
       "      <td>1.3</td>\n",
       "    </tr>\n",
       "    <tr>\n",
       "      <td>virginica</td>\n",
       "      <td>6.5</td>\n",
       "      <td>3.0</td>\n",
       "      <td>5.55</td>\n",
       "      <td>2.0</td>\n",
       "    </tr>\n",
       "  </tbody>\n",
       "</table>\n",
       "</div>"
      ],
      "text/plain": [
       "            sepal_length  sepal_width  petal_length  petal_width\n",
       "species                                                         \n",
       "setosa               5.0          3.4          1.50          0.2\n",
       "versicolor           5.9          2.8          4.35          1.3\n",
       "virginica            6.5          3.0          5.55          2.0"
      ]
     },
     "execution_count": 11,
     "metadata": {},
     "output_type": "execute_result"
    }
   ],
   "source": [
    "data.groupby(\"species\").median()"
   ]
  },
  {
   "cell_type": "code",
   "execution_count": 12,
   "metadata": {},
   "outputs": [
    {
     "data": {
      "text/html": [
       "<div>\n",
       "<style scoped>\n",
       "    .dataframe tbody tr th:only-of-type {\n",
       "        vertical-align: middle;\n",
       "    }\n",
       "\n",
       "    .dataframe tbody tr th {\n",
       "        vertical-align: top;\n",
       "    }\n",
       "\n",
       "    .dataframe thead tr th {\n",
       "        text-align: left;\n",
       "    }\n",
       "\n",
       "    .dataframe thead tr:last-of-type th {\n",
       "        text-align: right;\n",
       "    }\n",
       "</style>\n",
       "<table border=\"1\" class=\"dataframe\">\n",
       "  <thead>\n",
       "    <tr>\n",
       "      <th></th>\n",
       "      <th colspan=\"8\" halign=\"left\">sepal_length</th>\n",
       "      <th colspan=\"2\" halign=\"left\">sepal_width</th>\n",
       "      <th>...</th>\n",
       "      <th colspan=\"2\" halign=\"left\">petal_length</th>\n",
       "      <th colspan=\"8\" halign=\"left\">petal_width</th>\n",
       "    </tr>\n",
       "    <tr>\n",
       "      <th></th>\n",
       "      <th>count</th>\n",
       "      <th>mean</th>\n",
       "      <th>std</th>\n",
       "      <th>min</th>\n",
       "      <th>25%</th>\n",
       "      <th>50%</th>\n",
       "      <th>75%</th>\n",
       "      <th>max</th>\n",
       "      <th>count</th>\n",
       "      <th>mean</th>\n",
       "      <th>...</th>\n",
       "      <th>75%</th>\n",
       "      <th>max</th>\n",
       "      <th>count</th>\n",
       "      <th>mean</th>\n",
       "      <th>std</th>\n",
       "      <th>min</th>\n",
       "      <th>25%</th>\n",
       "      <th>50%</th>\n",
       "      <th>75%</th>\n",
       "      <th>max</th>\n",
       "    </tr>\n",
       "    <tr>\n",
       "      <th>species</th>\n",
       "      <th></th>\n",
       "      <th></th>\n",
       "      <th></th>\n",
       "      <th></th>\n",
       "      <th></th>\n",
       "      <th></th>\n",
       "      <th></th>\n",
       "      <th></th>\n",
       "      <th></th>\n",
       "      <th></th>\n",
       "      <th></th>\n",
       "      <th></th>\n",
       "      <th></th>\n",
       "      <th></th>\n",
       "      <th></th>\n",
       "      <th></th>\n",
       "      <th></th>\n",
       "      <th></th>\n",
       "      <th></th>\n",
       "      <th></th>\n",
       "      <th></th>\n",
       "    </tr>\n",
       "  </thead>\n",
       "  <tbody>\n",
       "    <tr>\n",
       "      <td>setosa</td>\n",
       "      <td>50.0</td>\n",
       "      <td>5.006</td>\n",
       "      <td>0.352490</td>\n",
       "      <td>4.3</td>\n",
       "      <td>4.800</td>\n",
       "      <td>5.0</td>\n",
       "      <td>5.2</td>\n",
       "      <td>5.8</td>\n",
       "      <td>50.0</td>\n",
       "      <td>3.418</td>\n",
       "      <td>...</td>\n",
       "      <td>1.575</td>\n",
       "      <td>1.9</td>\n",
       "      <td>50.0</td>\n",
       "      <td>0.244</td>\n",
       "      <td>0.107210</td>\n",
       "      <td>0.1</td>\n",
       "      <td>0.2</td>\n",
       "      <td>0.2</td>\n",
       "      <td>0.3</td>\n",
       "      <td>0.6</td>\n",
       "    </tr>\n",
       "    <tr>\n",
       "      <td>versicolor</td>\n",
       "      <td>50.0</td>\n",
       "      <td>5.936</td>\n",
       "      <td>0.516171</td>\n",
       "      <td>4.9</td>\n",
       "      <td>5.600</td>\n",
       "      <td>5.9</td>\n",
       "      <td>6.3</td>\n",
       "      <td>7.0</td>\n",
       "      <td>50.0</td>\n",
       "      <td>2.770</td>\n",
       "      <td>...</td>\n",
       "      <td>4.600</td>\n",
       "      <td>5.1</td>\n",
       "      <td>50.0</td>\n",
       "      <td>1.326</td>\n",
       "      <td>0.197753</td>\n",
       "      <td>1.0</td>\n",
       "      <td>1.2</td>\n",
       "      <td>1.3</td>\n",
       "      <td>1.5</td>\n",
       "      <td>1.8</td>\n",
       "    </tr>\n",
       "    <tr>\n",
       "      <td>virginica</td>\n",
       "      <td>50.0</td>\n",
       "      <td>6.588</td>\n",
       "      <td>0.635880</td>\n",
       "      <td>4.9</td>\n",
       "      <td>6.225</td>\n",
       "      <td>6.5</td>\n",
       "      <td>6.9</td>\n",
       "      <td>7.9</td>\n",
       "      <td>50.0</td>\n",
       "      <td>2.974</td>\n",
       "      <td>...</td>\n",
       "      <td>5.875</td>\n",
       "      <td>6.9</td>\n",
       "      <td>50.0</td>\n",
       "      <td>2.026</td>\n",
       "      <td>0.274650</td>\n",
       "      <td>1.4</td>\n",
       "      <td>1.8</td>\n",
       "      <td>2.0</td>\n",
       "      <td>2.3</td>\n",
       "      <td>2.5</td>\n",
       "    </tr>\n",
       "  </tbody>\n",
       "</table>\n",
       "<p>3 rows × 32 columns</p>\n",
       "</div>"
      ],
      "text/plain": [
       "           sepal_length                                              \\\n",
       "                  count   mean       std  min    25%  50%  75%  max   \n",
       "species                                                               \n",
       "setosa             50.0  5.006  0.352490  4.3  4.800  5.0  5.2  5.8   \n",
       "versicolor         50.0  5.936  0.516171  4.9  5.600  5.9  6.3  7.0   \n",
       "virginica          50.0  6.588  0.635880  4.9  6.225  6.5  6.9  7.9   \n",
       "\n",
       "           sepal_width         ... petal_length      petal_width         \\\n",
       "                 count   mean  ...          75%  max       count   mean   \n",
       "species                        ...                                        \n",
       "setosa            50.0  3.418  ...        1.575  1.9        50.0  0.244   \n",
       "versicolor        50.0  2.770  ...        4.600  5.1        50.0  1.326   \n",
       "virginica         50.0  2.974  ...        5.875  6.9        50.0  2.026   \n",
       "\n",
       "                                               \n",
       "                 std  min  25%  50%  75%  max  \n",
       "species                                        \n",
       "setosa      0.107210  0.1  0.2  0.2  0.3  0.6  \n",
       "versicolor  0.197753  1.0  1.2  1.3  1.5  1.8  \n",
       "virginica   0.274650  1.4  1.8  2.0  2.3  2.5  \n",
       "\n",
       "[3 rows x 32 columns]"
      ]
     },
     "execution_count": 12,
     "metadata": {},
     "output_type": "execute_result"
    }
   ],
   "source": [
    "data.groupby(\"species\").describe()"
   ]
  },
  {
   "cell_type": "markdown",
   "metadata": {},
   "source": [
    "### Visualising the data\n",
    "We will use three ways to visualise the data here. \n",
    "1. Scatter Plot\n",
    "2. Box plot \n",
    "3. Histogram\n",
    "4. Violinplots on each attribute for each species"
   ]
  },
  {
   "cell_type": "markdown",
   "metadata": {},
   "source": [
    "### 1. Scatter Plot\n",
    "Scatter graphs in Python can be created using Matplotlib. \n",
    "Need to import the Iris dataset in a different format than used above for the boxplot.\n",
    "sklearn is a library from the Scikitlearn package where the dataset is stored there."
   ]
  },
  {
   "cell_type": "code",
   "execution_count": 13,
   "metadata": {},
   "outputs": [
    {
     "data": {
      "image/png": "[encoded data removed]",
      "text/plain": [
       "<matplotlib.figure.Figure at 0x1f79dd363c8>"
      ]
     },
     "metadata": {},
     "output_type": "display_data"
    }
   ],
   "source": [
    "import matplotlib.pyplot as plt\n",
    "from sklearn.datasets import load_iris\n",
    "# iris_sklearn\n",
    "iris_sklearn = load_iris()\n",
    "\n",
    "# Need to set x axis to 0, i.e.similar to row wise setting in Python3 as used above. \n",
    "\n",
    "x_index = 0\n",
    "\n",
    "y_index = 1\n",
    " \n",
    "# this formatter will label the colorbar with the correct target names\n",
    "formatter = plt.FuncFormatter(lambda i, *args: iris_sklearn.target_names[int(i)])\n",
    "# Reference : https://www.scipy-lectures.org/packages/scikit-learn/auto_examples/plot_iris_scatter.html\n",
    "\n",
    "# Use of 'figsize' command to increase the size of the plot. \n",
    "plt.figure(figsize=(10, 9))\n",
    "\n",
    "plt.scatter(iris_sklearn.data[:, x_index], iris_sklearn.data[:, y_index], c=iris_sklearn.target)\n",
    "\n",
    "plt.colorbar(ticks=[0, 1, 2], format=formatter)\n",
    "\n",
    "plt.xlabel(iris_sklearn.feature_names[x_index])\n",
    "\n",
    "plt.ylabel(iris_sklearn.feature_names[y_index])\n",
    "\n",
    "\n",
    "plt.show()"
   ]
  },
  {
   "cell_type": "markdown",
   "metadata": {},
   "source": [
    "## Analysis of Result\n",
    "\n",
    "Colour has been introduced to distinguish the 3 species from each other.\n",
    "\n",
    "A scatterplot graphs is used to see trends in the data and is interpreted from left to right.\n",
    "\n",
    "#### Advantage of scatterplot:\n",
    "All data points are visible and the outliers are easier to locate,for example species Setosa(in purple above) has an outlier towards the lower limit and Virginica(in yellow) has 3 outliers towards the upper limit.\n",
    "\n",
    "#### Disadvantage: \n",
    "Where the data shows not follow a linear trend, it is difficult to dicipher relatinships between the variables. It is also very hard to see the exact results for median, quartiles and percentiles.\n",
    "\n",
    "Misinterpretation of results can occur as the satterplot displays relationships, correlations which may not depending on the sample and population sizes.\n",
    "\n",
    "Reference :https://www.dummies.com/education/math/statistics/how-to-interpret-a-scatterplot/"
   ]
  },
  {
   "cell_type": "markdown",
   "metadata": {},
   "source": [
    "### 2. Boxplot\n",
    "Use of BoxPlot function from Pandas to create the boxplots for each of 3 Species and show the 4 attributes (sepal & petal width and length)\n",
    "Boxplot does not display the plots automatically so need to use the function \".show\" from the Matploblib\n",
    "Adding the function \"figsize=(12,8)\" increases the size of the boxplots as the first output was hard to read\n",
    "\n",
    "Reference: https://pandas.pydata.org/pandas"
   ]
  },
  {
   "cell_type": "code",
   "execution_count": 14,
   "metadata": {},
   "outputs": [
    {
     "data": {
      "image/png": "[encoded data removed]",
      "text/plain": [
       "<matplotlib.figure.Figure at 0x1f79dcdbc18>"
      ]
     },
     "metadata": {},
     "output_type": "display_data"
    }
   ],
   "source": [
    "import matplotlib.pyplot as plt\n",
    "data.boxplot(by='species',figsize=(14,10))\n",
    "plt.show()"
   ]
  },
  {
   "cell_type": "markdown",
   "metadata": {},
   "source": [
    "### Analysis of results\n",
    "#### Petal length and width: \n",
    "Setosa is the vaiety with the lowest petal length and width. Virginica the species with the highest \n",
    "Overall, the box plot summary shows that petal length is larger compared to petal width.\n",
    "\n",
    "#### Sepal length and width : \n",
    "Sestosa is the variety with the lowest sepal length but Versicolor has the lowest width. Virginica is the species with the highest sepal length but Sestosa has the highest sepal width.\n",
    "Overall, the box plot summary shows that sepal length is more than sepal width.\n",
    "\n",
    "#### Results for individual species:\n",
    "For sepal analysis : Virginica has 3 outliers, 1 each for sepal length and 2 for sepal width.\n",
    "For petal analysis : Sestosa has 5 outliers - 3 for petal length and 2 for petal width.\n",
    "                   : Versicolor has 1 outlier on the lower extreme. \n"
   ]
  },
  {
   "cell_type": "markdown",
   "metadata": {},
   "source": [
    "### Histograms compared as the second alternative.\n",
    "\n",
    "A histogram is used to display the 'underlying frequency distribution (shape) of a set of continuous data.'\n",
    "This concept was first introduced by Karl Pearson\n",
    "Reference : https://statistics.laerd.com/statistical-guides/understanding-histograms.php"
   ]
  },
  {
   "cell_type": "code",
   "execution_count": 15,
   "metadata": {},
   "outputs": [
    {
     "data": {
      "image/png": "[encoded data removed]",
      "text/plain": [
       "<matplotlib.figure.Figure at 0x1f7a1fbbfd0>"
      ]
     },
     "metadata": {},
     "output_type": "display_data"
    },
    {
     "data": {
      "text/plain": [
       "<matplotlib.figure.Figure at 0x1f7a25719e8>"
      ]
     },
     "metadata": {},
     "output_type": "display_data"
    }
   ],
   "source": [
    "import matplotlib.pyplot as plt\n",
    "# from sklearn.datasets import load_iris\n",
    "\n",
    "fig, axes = plt.subplots(nrows= 2, ncols=2)\n",
    "# Assigning different colours to the 3 species, Setosa, Versicolor and Virginica with \n",
    "colors= ['blue', 'red', 'green']\n",
    "\n",
    "for i, ax in enumerate(axes.flat):\n",
    "    for label, color in zip(range(len(iris_sklearn.target_names)), colors):\n",
    "        ax.hist(iris_sklearn.data[iris_sklearn.target==label, i], label= iris_sklearn.target_names[label], color=color)\n",
    "        ax.set_xlabel(iris_sklearn.feature_names[i])  \n",
    "        ax.legend(loc='upper right')\n",
    "        \n",
    "plt.figure(figsize=(20,20))        \n",
    "plt.show()"
   ]
  },
  {
   "cell_type": "markdown",
   "metadata": {},
   "source": [
    "## Analysis of results\n",
    "\n",
    "Similar to scatterplots, colour is also introduced in histograms to distinguish the 3 species from each other.\n",
    "By looking at the histograms initially, petal length and petal width for Sestosa appear to branch away from the normal distribution.\n",
    "\n",
    "#### Advantage of histogram: \n",
    "Histogram makes interpretation of the data much easier. For example, over all the data for sepal width follows a normal distribution.\n",
    "It is easier to identify overlap of the data distribution. In the histogram shown for sepal length, Versicolor adn Virginica species overlap.\n",
    "\n",
    "#### Disadvantage of histogram: \n",
    "Histograms do not display outlier data and therefore misinterpretation of results can occur as there are are known outliers from the boxplot and scatterplot. \n",
    "\n",
    "Reference :https://www.dummies.com/education/math/statistics/how-to-interpret-a-scatterplot/\n"
   ]
  },
  {
   "cell_type": "markdown",
   "metadata": {},
   "source": [
    "## Violin Plot\n",
    "\n",
    "Reference: https://www.kaggle.com/adityabhat24/iris-data-analysis-and-machine-learning-python"
   ]
  },
  {
   "cell_type": "code",
   "execution_count": 16,
   "metadata": {
    "collapsed": true
   },
   "outputs": [],
   "source": [
    "import seaborn as sns\n",
    "sns.set(color_codes=True)"
   ]
  },
  {
   "cell_type": "code",
   "execution_count": 21,
   "metadata": {},
   "outputs": [
    {
     "name": "stderr",
     "output_type": "stream",
     "text": [
      "C:\\Users\\Mary\\Anaconda3\\lib\\site-packages\\seaborn\\categorical.py:598: FutureWarning: remove_na is deprecated and is a private function. Do not use.\n",
      "  kde_data = remove_na(group_data)\n",
      "C:\\Users\\Mary\\Anaconda3\\lib\\site-packages\\seaborn\\categorical.py:826: FutureWarning: remove_na is deprecated and is a private function. Do not use.\n",
      "  violin_data = remove_na(group_data)\n",
      "C:\\Users\\Mary\\Anaconda3\\lib\\site-packages\\scipy\\stats\\stats.py:1633: FutureWarning: Using a non-tuple sequence for multidimensional indexing is deprecated; use `arr[tuple(seq)]` instead of `arr[seq]`. In the future this will be interpreted as an array index, `arr[np.array(seq)]`, which will result either in an error or a different result.\n",
      "  return np.add.reduce(sorted[indexer] * weights, axis=axis) / sumval\n"
     ]
    },
    {
     "data": {
      "text/plain": [
       "<matplotlib.axes._subplots.AxesSubplot at 0x1f7a226c4a8>"
      ]
     },
     "execution_count": 21,
     "metadata": {},
     "output_type": "execute_result"
    }
   ],
   "source": [
    "sns.violinplot(data=data,x=\"species\", y=\"sepal_length\")"
   ]
  },
  {
   "cell_type": "code",
   "execution_count": 18,
   "metadata": {},
   "outputs": [
    {
     "name": "stderr",
     "output_type": "stream",
     "text": [
      "C:\\Users\\Mary\\Anaconda3\\lib\\site-packages\\seaborn\\categorical.py:598: FutureWarning: remove_na is deprecated and is a private function. Do not use.\n",
      "  kde_data = remove_na(group_data)\n",
      "C:\\Users\\Mary\\Anaconda3\\lib\\site-packages\\seaborn\\categorical.py:826: FutureWarning: remove_na is deprecated and is a private function. Do not use.\n",
      "  violin_data = remove_na(group_data)\n",
      "C:\\Users\\Mary\\Anaconda3\\lib\\site-packages\\scipy\\stats\\stats.py:1633: FutureWarning: Using a non-tuple sequence for multidimensional indexing is deprecated; use `arr[tuple(seq)]` instead of `arr[seq]`. In the future this will be interpreted as an array index, `arr[np.array(seq)]`, which will result either in an error or a different result.\n",
      "  return np.add.reduce(sorted[indexer] * weights, axis=axis) / sumval\n"
     ]
    },
    {
     "data": {
      "text/plain": [
       "<matplotlib.axes._subplots.AxesSubplot at 0x1f7a226c4a8>"
      ]
     },
     "execution_count": 18,
     "metadata": {},
     "output_type": "execute_result"
    }
   ],
   "source": [
    "sns.violinplot(data=data,x=\"species\", y=\"sepal_width\")"
   ]
  },
  {
   "cell_type": "code",
   "execution_count": 19,
   "metadata": {},
   "outputs": [
    {
     "name": "stderr",
     "output_type": "stream",
     "text": [
      "C:\\Users\\Mary\\Anaconda3\\lib\\site-packages\\seaborn\\categorical.py:598: FutureWarning: remove_na is deprecated and is a private function. Do not use.\n",
      "  kde_data = remove_na(group_data)\n",
      "C:\\Users\\Mary\\Anaconda3\\lib\\site-packages\\seaborn\\categorical.py:826: FutureWarning: remove_na is deprecated and is a private function. Do not use.\n",
      "  violin_data = remove_na(group_data)\n",
      "C:\\Users\\Mary\\Anaconda3\\lib\\site-packages\\scipy\\stats\\stats.py:1633: FutureWarning: Using a non-tuple sequence for multidimensional indexing is deprecated; use `arr[tuple(seq)]` instead of `arr[seq]`. In the future this will be interpreted as an array index, `arr[np.array(seq)]`, which will result either in an error or a different result.\n",
      "  return np.add.reduce(sorted[indexer] * weights, axis=axis) / sumval\n"
     ]
    },
    {
     "data": {
      "text/plain": [
       "<matplotlib.axes._subplots.AxesSubplot at 0x1f7a226c4a8>"
      ]
     },
     "execution_count": 19,
     "metadata": {},
     "output_type": "execute_result"
    }
   ],
   "source": [
    "sns.violinplot(data=data,x=\"species\", y=\"petal_length\")"
   ]
  },
  {
   "cell_type": "code",
   "execution_count": 20,
   "metadata": {},
   "outputs": [
    {
     "name": "stderr",
     "output_type": "stream",
     "text": [
      "C:\\Users\\Mary\\Anaconda3\\lib\\site-packages\\seaborn\\categorical.py:598: FutureWarning: remove_na is deprecated and is a private function. Do not use.\n",
      "  kde_data = remove_na(group_data)\n",
      "C:\\Users\\Mary\\Anaconda3\\lib\\site-packages\\seaborn\\categorical.py:826: FutureWarning: remove_na is deprecated and is a private function. Do not use.\n",
      "  violin_data = remove_na(group_data)\n",
      "C:\\Users\\Mary\\Anaconda3\\lib\\site-packages\\scipy\\stats\\stats.py:1633: FutureWarning: Using a non-tuple sequence for multidimensional indexing is deprecated; use `arr[tuple(seq)]` instead of `arr[seq]`. In the future this will be interpreted as an array index, `arr[np.array(seq)]`, which will result either in an error or a different result.\n",
      "  return np.add.reduce(sorted[indexer] * weights, axis=axis) / sumval\n"
     ]
    },
    {
     "data": {
      "text/plain": [
       "<matplotlib.axes._subplots.AxesSubplot at 0x1f7a226c4a8>"
      ]
     },
     "execution_count": 20,
     "metadata": {},
     "output_type": "execute_result"
    }
   ],
   "source": [
    "sns.violinplot(data=data,x=\"species\", y=\"petal_width\")"
   ]
  }
 ],
 "metadata": {
  "kernelspec": {
   "display_name": "Python 3",
   "language": "python",
   "name": "python3"
  },
  "language_info": {
   "codemirror_mode": {
    "name": "ipython",
    "version": 3
   },
   "file_extension": ".py",
   "mimetype": "text/x-python",
   "name": "python",
   "nbconvert_exporter": "python",
   "pygments_lexer": "ipython3",
   "version": "3.6.3"
  }
 },
 "nbformat": 4,
 "nbformat_minor": 2
}
